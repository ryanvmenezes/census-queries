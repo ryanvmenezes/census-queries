{
 "cells": [
  {
   "cell_type": "code",
   "execution_count": 1,
   "metadata": {},
   "outputs": [],
   "source": [
    "from census import Census"
   ]
  },
  {
   "cell_type": "code",
   "execution_count": 2,
   "metadata": {},
   "outputs": [],
   "source": [
    "from us import states"
   ]
  },
  {
   "cell_type": "code",
   "execution_count": 3,
   "metadata": {},
   "outputs": [
    {
     "name": "stdout",
     "output_type": "stream",
     "text": [
      "https://www2.census.gov/geo/tiger/TIGER2010/TABBLOCK/2010/tl_2010_06_tabblock10.zip\n"
     ]
    }
   ],
   "source": [
    "print(states.CA.shapefile_urls()['block'])"
   ]
  },
  {
   "cell_type": "code",
   "execution_count": 4,
   "metadata": {},
   "outputs": [],
   "source": [
    "c = Census('45abd686abf7a53c954b1e3d26eadca0631584fa')"
   ]
  },
  {
   "cell_type": "markdown",
   "metadata": {},
   "source": [
    "https://factfinder.census.gov/faces/tableservices/jsf/pages/productview.xhtml?pid=ACS_17_5YR_B03002&prodType=table"
   ]
  },
  {
   "cell_type": "code",
   "execution_count": 5,
   "metadata": {},
   "outputs": [
    {
     "data": {
      "text/plain": [
       "[{'NAME': 'Maryland', 'B25034_010E': 282894.0, 'state': '24'}]"
      ]
     },
     "execution_count": 5,
     "metadata": {},
     "output_type": "execute_result"
    }
   ],
   "source": [
    "c.acs5.state(('NAME', 'B25034_010E'), states.MD.fips, year=2010)"
   ]
  },
  {
   "cell_type": "code",
   "execution_count": 6,
   "metadata": {},
   "outputs": [
    {
     "data": {
      "text/plain": [
       "[{'B03002_001E': 7594.0,\n",
       "  'B03002_003E': 6247.0,\n",
       "  'B03002_004E': 15.0,\n",
       "  'B03002_006E': 160.0,\n",
       "  'B03002_012E': 917.0,\n",
       "  'state': '06',\n",
       "  'place': '53476'}]"
      ]
     },
     "execution_count": 6,
     "metadata": {},
     "output_type": "execute_result"
    }
   ],
   "source": [
    "c.acs5.state_place(\n",
    "    (\n",
    "        'B03002_001E', # total\n",
    "        'B03002_003E', # white\n",
    "        'B03002_004E', # black\n",
    "        'B03002_006E', # asian\n",
    "        'B03002_012E', # latino\n",
    "    ),\n",
    "    '06',\n",
    "    '53476',\n",
    "    year=2017\n",
    ")"
   ]
  },
  {
   "cell_type": "code",
   "execution_count": 7,
   "metadata": {},
   "outputs": [
    {
     "data": {
      "text/plain": [
       "[{'B03002_001E': 7594.0,\n",
       "  'B03002_003E': 6247.0,\n",
       "  'B03002_004E': 15.0,\n",
       "  'B03002_006E': 160.0,\n",
       "  'B03002_012E': 917.0,\n",
       "  'state': '06',\n",
       "  'place': '53476'}]"
      ]
     },
     "execution_count": 7,
     "metadata": {},
     "output_type": "execute_result"
    }
   ],
   "source": [
    "c.acs5.get(\n",
    "    (\n",
    "        'B03002_001E', # total\n",
    "        'B03002_003E', # white\n",
    "        'B03002_004E', # black\n",
    "        'B03002_006E', # asian\n",
    "        'B03002_012E', # latino\n",
    "    ),\n",
    "    geo={'for':'place:53476', 'in':'state:06'},\n",
    "    year=2017\n",
    ")"
   ]
  },
  {
   "cell_type": "code",
   "execution_count": 9,
   "metadata": {},
   "outputs": [
    {
     "data": {
      "text/plain": [
       "[{'name': 'P5',\n",
       "  'description': 'HISPANIC OR LATINO ORIGIN BY RACE',\n",
       "  'variables': 'https://api.census.gov/data/2010/dec/sf1/groups/P5.json'},\n",
       " {'name': 'P50',\n",
       "  'description': 'ALLOCATION OF RELATIONSHIP',\n",
       "  'variables': 'https://api.census.gov/data/2010/dec/sf1/groups/P50.json'},\n",
       " {'name': 'P51',\n",
       "  'description': 'ALLOCATION OF POPULATION ITEMS FOR THE POPULATION IN GROUP QUARTERS',\n",
       "  'variables': 'https://api.census.gov/data/2010/dec/sf1/groups/P51.json'}]"
      ]
     },
     "execution_count": 9,
     "metadata": {},
     "output_type": "execute_result"
    }
   ],
   "source": [
    "[d for d in c.sf1.tables() if d['name'].startswith('P5')]"
   ]
  },
  {
   "cell_type": "code",
   "execution_count": 10,
   "metadata": {},
   "outputs": [
    {
     "data": {
      "text/plain": [
       "[{'P005001': 7461.0,\n",
       "  'P005003': 5754.0,\n",
       "  'P005004': 36.0,\n",
       "  'P005006': 152.0,\n",
       "  'P004003': 1339.0,\n",
       "  'state': '06',\n",
       "  'place': '53476'}]"
      ]
     },
     "execution_count": 10,
     "metadata": {},
     "output_type": "execute_result"
    }
   ],
   "source": [
    "c.sf1.get(\n",
    "    (\n",
    "        'P005001', # total\n",
    "        'P005003', # white\n",
    "        'P005004', # black\n",
    "        'P005006', # asian\n",
    "        'P004003', # latino\n",
    "    ),\n",
    "    geo={'for':'place:53476', 'in':'state:06'},\n",
    "    year=2010\n",
    ")"
   ]
  },
  {
   "cell_type": "code",
   "execution_count": 11,
   "metadata": {},
   "outputs": [
    {
     "data": {
      "text/plain": [
       "[{'P008001': '7862',\n",
       "  'P008003': '6259',\n",
       "  'P008004': '46',\n",
       "  'P008006': '124',\n",
       "  'P008010': '1245',\n",
       "  'state': '06',\n",
       "  'place': '53476'}]"
      ]
     },
     "execution_count": 11,
     "metadata": {},
     "output_type": "execute_result"
    }
   ],
   "source": [
    "c.sf1.get(\n",
    "    (\n",
    "        'P008001', # total\n",
    "        'P008003', # white\n",
    "        'P008004', # black\n",
    "        'P008006', # asian\n",
    "        'P008010', # latino\n",
    "    ),\n",
    "    geo={'for':'place:53476', 'in':'state:06'},\n",
    "    year=2000\n",
    ")"
   ]
  },
  {
   "cell_type": "code",
   "execution_count": 12,
   "metadata": {},
   "outputs": [
    {
     "data": {
      "text/plain": [
       "[{'P0080001': 928.0, 'state': '06', 'place': '53476'}]"
      ]
     },
     "execution_count": 12,
     "metadata": {},
     "output_type": "execute_result"
    }
   ],
   "source": [
    "c.sf1.get(\n",
    "    (\n",
    "        'P0080001', # total\n",
    "#         'P008003', # white\n",
    "#         'P008004', # black\n",
    "#         'P008006', # asian\n",
    "#         'P008010', # latino\n",
    "    ),\n",
    "    geo={'for':'place:53476', 'in':'state:06'},\n",
    "    year=1990\n",
    ")"
   ]
  },
  {
   "cell_type": "code",
   "execution_count": null,
   "metadata": {},
   "outputs": [],
   "source": []
  }
 ],
 "metadata": {
  "kernelspec": {
   "display_name": "Python 3",
   "language": "python",
   "name": "python3"
  },
  "language_info": {
   "codemirror_mode": {
    "name": "ipython",
    "version": 3
   },
   "file_extension": ".py",
   "mimetype": "text/x-python",
   "name": "python",
   "nbconvert_exporter": "python",
   "pygments_lexer": "ipython3",
   "version": "3.6.7"
  }
 },
 "nbformat": 4,
 "nbformat_minor": 2
}
