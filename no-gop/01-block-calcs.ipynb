{
 "cells": [
  {
   "cell_type": "code",
   "execution_count": 1,
   "metadata": {},
   "outputs": [],
   "source": [
    "import pandas as pd"
   ]
  },
  {
   "cell_type": "code",
   "execution_count": 2,
   "metadata": {},
   "outputs": [],
   "source": [
    "districts = ['assembly','senate','congressional']"
   ]
  },
  {
   "cell_type": "code",
   "execution_count": 3,
   "metadata": {},
   "outputs": [],
   "source": [
    "def readtracts(d):\n",
    "    dist = pd.read_csv('blocks-{}districts.csv'.format(d), header=None, skiprows=2, dtype=str)\n",
    "    dist.columns = ['countyfp','tract','block','legdist_{}'.format(d[0]),'county','population','alloc']\n",
    "    dist['legdist_{}'.format(d[0])] = dist['legdist_{}'.format(d[0])].str.pad(width=3, fillchar='0')\n",
    "    dist['geoid'] = dist.countyfp + dist.tract.str.replace('.','') + dist.block\n",
    "    return dist.set_index(['geoid','county','population'])[['legdist_{}'.format(d[0])]]"
   ]
  },
  {
   "cell_type": "code",
   "execution_count": 4,
   "metadata": {},
   "outputs": [],
   "source": [
    "data = {d: readtracts(d) for d in districts}"
   ]
  },
  {
   "cell_type": "code",
   "execution_count": 5,
   "metadata": {},
   "outputs": [
    {
     "data": {
      "text/plain": [
       "[710145, 710145, 710145]"
      ]
     },
     "execution_count": 5,
     "metadata": {},
     "output_type": "execute_result"
    }
   ],
   "source": [
    "[len(d) for d in data.values()]"
   ]
  },
  {
   "cell_type": "code",
   "execution_count": 6,
   "metadata": {},
   "outputs": [
    {
     "data": {
      "text/html": [
       "<div>\n",
       "<style scoped>\n",
       "    .dataframe tbody tr th:only-of-type {\n",
       "        vertical-align: middle;\n",
       "    }\n",
       "\n",
       "    .dataframe tbody tr th {\n",
       "        vertical-align: top;\n",
       "    }\n",
       "\n",
       "    .dataframe thead th {\n",
       "        text-align: right;\n",
       "    }\n",
       "</style>\n",
       "<table border=\"1\" class=\"dataframe\">\n",
       "  <thead>\n",
       "    <tr style=\"text-align: right;\">\n",
       "      <th></th>\n",
       "      <th></th>\n",
       "      <th></th>\n",
       "      <th>legdist_a</th>\n",
       "    </tr>\n",
       "    <tr>\n",
       "      <th>geoid</th>\n",
       "      <th>county</th>\n",
       "      <th>population</th>\n",
       "      <th></th>\n",
       "    </tr>\n",
       "  </thead>\n",
       "  <tbody>\n",
       "    <tr>\n",
       "      <th>060014001001000</th>\n",
       "      <th>Alameda CA</th>\n",
       "      <th>0</th>\n",
       "      <td>015</td>\n",
       "    </tr>\n",
       "    <tr>\n",
       "      <th>060014001001001</th>\n",
       "      <th>Alameda CA</th>\n",
       "      <th>0</th>\n",
       "      <td>015</td>\n",
       "    </tr>\n",
       "    <tr>\n",
       "      <th>060014001001002</th>\n",
       "      <th>Alameda CA</th>\n",
       "      <th>0</th>\n",
       "      <td>015</td>\n",
       "    </tr>\n",
       "    <tr>\n",
       "      <th>060014001001003</th>\n",
       "      <th>Alameda CA</th>\n",
       "      <th>0</th>\n",
       "      <td>015</td>\n",
       "    </tr>\n",
       "    <tr>\n",
       "      <th>060014001001004</th>\n",
       "      <th>Alameda CA</th>\n",
       "      <th>0</th>\n",
       "      <td>015</td>\n",
       "    </tr>\n",
       "  </tbody>\n",
       "</table>\n",
       "</div>"
      ],
      "text/plain": [
       "                                      legdist_a\n",
       "geoid           county     population          \n",
       "060014001001000 Alameda CA 0                015\n",
       "060014001001001 Alameda CA 0                015\n",
       "060014001001002 Alameda CA 0                015\n",
       "060014001001003 Alameda CA 0                015\n",
       "060014001001004 Alameda CA 0                015"
      ]
     },
     "execution_count": 6,
     "metadata": {},
     "output_type": "execute_result"
    }
   ],
   "source": [
    "data['assembly'].head()"
   ]
  },
  {
   "cell_type": "code",
   "execution_count": 7,
   "metadata": {},
   "outputs": [
    {
     "data": {
      "text/html": [
       "<div>\n",
       "<style scoped>\n",
       "    .dataframe tbody tr th:only-of-type {\n",
       "        vertical-align: middle;\n",
       "    }\n",
       "\n",
       "    .dataframe tbody tr th {\n",
       "        vertical-align: top;\n",
       "    }\n",
       "\n",
       "    .dataframe thead th {\n",
       "        text-align: right;\n",
       "    }\n",
       "</style>\n",
       "<table border=\"1\" class=\"dataframe\">\n",
       "  <thead>\n",
       "    <tr style=\"text-align: right;\">\n",
       "      <th></th>\n",
       "      <th></th>\n",
       "      <th></th>\n",
       "      <th>legdist_c</th>\n",
       "    </tr>\n",
       "    <tr>\n",
       "      <th>geoid</th>\n",
       "      <th>county</th>\n",
       "      <th>population</th>\n",
       "      <th></th>\n",
       "    </tr>\n",
       "  </thead>\n",
       "  <tbody>\n",
       "    <tr>\n",
       "      <th>060014001001000</th>\n",
       "      <th>Alameda CA</th>\n",
       "      <th>0</th>\n",
       "      <td>013</td>\n",
       "    </tr>\n",
       "    <tr>\n",
       "      <th>060014001001001</th>\n",
       "      <th>Alameda CA</th>\n",
       "      <th>0</th>\n",
       "      <td>013</td>\n",
       "    </tr>\n",
       "    <tr>\n",
       "      <th>060014001001002</th>\n",
       "      <th>Alameda CA</th>\n",
       "      <th>0</th>\n",
       "      <td>013</td>\n",
       "    </tr>\n",
       "    <tr>\n",
       "      <th>060014001001003</th>\n",
       "      <th>Alameda CA</th>\n",
       "      <th>0</th>\n",
       "      <td>013</td>\n",
       "    </tr>\n",
       "    <tr>\n",
       "      <th>060014001001004</th>\n",
       "      <th>Alameda CA</th>\n",
       "      <th>0</th>\n",
       "      <td>013</td>\n",
       "    </tr>\n",
       "  </tbody>\n",
       "</table>\n",
       "</div>"
      ],
      "text/plain": [
       "                                      legdist_c\n",
       "geoid           county     population          \n",
       "060014001001000 Alameda CA 0                013\n",
       "060014001001001 Alameda CA 0                013\n",
       "060014001001002 Alameda CA 0                013\n",
       "060014001001003 Alameda CA 0                013\n",
       "060014001001004 Alameda CA 0                013"
      ]
     },
     "execution_count": 7,
     "metadata": {},
     "output_type": "execute_result"
    }
   ],
   "source": [
    "data['congressional'].head()"
   ]
  },
  {
   "cell_type": "code",
   "execution_count": 8,
   "metadata": {},
   "outputs": [],
   "source": [
    "alldist = pd.concat([data['congressional'], data['assembly'], data['senate'],], axis=1).reset_index()"
   ]
  },
  {
   "cell_type": "code",
   "execution_count": 9,
   "metadata": {},
   "outputs": [
    {
     "data": {
      "text/plain": [
       "710145"
      ]
     },
     "execution_count": 9,
     "metadata": {},
     "output_type": "execute_result"
    }
   ],
   "source": [
    "len(alldist)"
   ]
  },
  {
   "cell_type": "code",
   "execution_count": 10,
   "metadata": {},
   "outputs": [],
   "source": [
    "alldist['district_code'] = 'c' + alldist.legdist_c + 'a' + alldist.legdist_a + 's' + alldist.legdist_s"
   ]
  },
  {
   "cell_type": "code",
   "execution_count": 11,
   "metadata": {},
   "outputs": [
    {
     "data": {
      "text/html": [
       "<div>\n",
       "<style scoped>\n",
       "    .dataframe tbody tr th:only-of-type {\n",
       "        vertical-align: middle;\n",
       "    }\n",
       "\n",
       "    .dataframe tbody tr th {\n",
       "        vertical-align: top;\n",
       "    }\n",
       "\n",
       "    .dataframe thead th {\n",
       "        text-align: right;\n",
       "    }\n",
       "</style>\n",
       "<table border=\"1\" class=\"dataframe\">\n",
       "  <thead>\n",
       "    <tr style=\"text-align: right;\">\n",
       "      <th></th>\n",
       "      <th>geoid</th>\n",
       "      <th>county</th>\n",
       "      <th>population</th>\n",
       "      <th>legdist_c</th>\n",
       "      <th>legdist_a</th>\n",
       "      <th>legdist_s</th>\n",
       "      <th>district_code</th>\n",
       "    </tr>\n",
       "  </thead>\n",
       "  <tbody>\n",
       "    <tr>\n",
       "      <th>0</th>\n",
       "      <td>060014001001000</td>\n",
       "      <td>Alameda CA</td>\n",
       "      <td>0</td>\n",
       "      <td>013</td>\n",
       "      <td>015</td>\n",
       "      <td>009</td>\n",
       "      <td>c013a015s009</td>\n",
       "    </tr>\n",
       "    <tr>\n",
       "      <th>1</th>\n",
       "      <td>060014001001001</td>\n",
       "      <td>Alameda CA</td>\n",
       "      <td>0</td>\n",
       "      <td>013</td>\n",
       "      <td>015</td>\n",
       "      <td>009</td>\n",
       "      <td>c013a015s009</td>\n",
       "    </tr>\n",
       "    <tr>\n",
       "      <th>2</th>\n",
       "      <td>060014001001002</td>\n",
       "      <td>Alameda CA</td>\n",
       "      <td>0</td>\n",
       "      <td>013</td>\n",
       "      <td>015</td>\n",
       "      <td>009</td>\n",
       "      <td>c013a015s009</td>\n",
       "    </tr>\n",
       "    <tr>\n",
       "      <th>3</th>\n",
       "      <td>060014001001003</td>\n",
       "      <td>Alameda CA</td>\n",
       "      <td>0</td>\n",
       "      <td>013</td>\n",
       "      <td>015</td>\n",
       "      <td>009</td>\n",
       "      <td>c013a015s009</td>\n",
       "    </tr>\n",
       "    <tr>\n",
       "      <th>4</th>\n",
       "      <td>060014001001004</td>\n",
       "      <td>Alameda CA</td>\n",
       "      <td>0</td>\n",
       "      <td>013</td>\n",
       "      <td>015</td>\n",
       "      <td>009</td>\n",
       "      <td>c013a015s009</td>\n",
       "    </tr>\n",
       "  </tbody>\n",
       "</table>\n",
       "</div>"
      ],
      "text/plain": [
       "             geoid      county population legdist_c legdist_a legdist_s  \\\n",
       "0  060014001001000  Alameda CA          0       013       015       009   \n",
       "1  060014001001001  Alameda CA          0       013       015       009   \n",
       "2  060014001001002  Alameda CA          0       013       015       009   \n",
       "3  060014001001003  Alameda CA          0       013       015       009   \n",
       "4  060014001001004  Alameda CA          0       013       015       009   \n",
       "\n",
       "  district_code  \n",
       "0  c013a015s009  \n",
       "1  c013a015s009  \n",
       "2  c013a015s009  \n",
       "3  c013a015s009  \n",
       "4  c013a015s009  "
      ]
     },
     "execution_count": 11,
     "metadata": {},
     "output_type": "execute_result"
    }
   ],
   "source": [
    "alldist.head()"
   ]
  },
  {
   "cell_type": "code",
   "execution_count": 12,
   "metadata": {},
   "outputs": [],
   "source": [
    "alldist.to_csv('blocks-uniquedistricts-xwalk.csv', index=False)"
   ]
  },
  {
   "cell_type": "code",
   "execution_count": 13,
   "metadata": {},
   "outputs": [
    {
     "data": {
      "text/plain": [
       "710145"
      ]
     },
     "execution_count": 13,
     "metadata": {},
     "output_type": "execute_result"
    }
   ],
   "source": [
    "len(alldist)"
   ]
  },
  {
   "cell_type": "code",
   "execution_count": null,
   "metadata": {},
   "outputs": [],
   "source": []
  }
 ],
 "metadata": {
  "kernelspec": {
   "display_name": "Python 3",
   "language": "python",
   "name": "python3"
  },
  "language_info": {
   "codemirror_mode": {
    "name": "ipython",
    "version": 3
   },
   "file_extension": ".py",
   "mimetype": "text/x-python",
   "name": "python",
   "nbconvert_exporter": "python",
   "pygments_lexer": "ipython3",
   "version": "3.6.7"
  }
 },
 "nbformat": 4,
 "nbformat_minor": 2
}
