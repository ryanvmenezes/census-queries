{
 "cells": [
  {
   "cell_type": "code",
   "execution_count": 1,
   "metadata": {},
   "outputs": [],
   "source": [
    "import pandas as pd\n",
    "import geopandas as gpd"
   ]
  },
  {
   "cell_type": "code",
   "execution_count": 2,
   "metadata": {},
   "outputs": [],
   "source": [
    "BLOCKS = gpd.read_file('ca-blocks-shapes/tl_2010_06_tabblock10.shp')"
   ]
  },
  {
   "cell_type": "code",
   "execution_count": 3,
   "metadata": {
    "scrolled": false
   },
   "outputs": [
    {
     "data": {
      "text/html": [
       "<div>\n",
       "<style scoped>\n",
       "    .dataframe tbody tr th:only-of-type {\n",
       "        vertical-align: middle;\n",
       "    }\n",
       "\n",
       "    .dataframe tbody tr th {\n",
       "        vertical-align: top;\n",
       "    }\n",
       "\n",
       "    .dataframe thead th {\n",
       "        text-align: right;\n",
       "    }\n",
       "</style>\n",
       "<table border=\"1\" class=\"dataframe\">\n",
       "  <thead>\n",
       "    <tr style=\"text-align: right;\">\n",
       "      <th></th>\n",
       "      <th>STATEFP10</th>\n",
       "      <th>COUNTYFP10</th>\n",
       "      <th>TRACTCE10</th>\n",
       "      <th>BLOCKCE10</th>\n",
       "      <th>GEOID10</th>\n",
       "      <th>NAME10</th>\n",
       "      <th>MTFCC10</th>\n",
       "      <th>UR10</th>\n",
       "      <th>UACE10</th>\n",
       "      <th>UATYP10</th>\n",
       "      <th>FUNCSTAT10</th>\n",
       "      <th>ALAND10</th>\n",
       "      <th>AWATER10</th>\n",
       "      <th>INTPTLAT10</th>\n",
       "      <th>INTPTLON10</th>\n",
       "      <th>geometry</th>\n",
       "    </tr>\n",
       "  </thead>\n",
       "  <tbody>\n",
       "    <tr>\n",
       "      <th>0</th>\n",
       "      <td>06</td>\n",
       "      <td>001</td>\n",
       "      <td>410000</td>\n",
       "      <td>2024</td>\n",
       "      <td>060014100002024</td>\n",
       "      <td>Block 2024</td>\n",
       "      <td>G5040</td>\n",
       "      <td>U</td>\n",
       "      <td>78904</td>\n",
       "      <td>U</td>\n",
       "      <td>S</td>\n",
       "      <td>1180</td>\n",
       "      <td>0</td>\n",
       "      <td>+37.7514499</td>\n",
       "      <td>-122.1244488</td>\n",
       "      <td>POLYGON ((-122.124886 37.751635, -122.12476 37...</td>\n",
       "    </tr>\n",
       "    <tr>\n",
       "      <th>1</th>\n",
       "      <td>06</td>\n",
       "      <td>001</td>\n",
       "      <td>407300</td>\n",
       "      <td>2017</td>\n",
       "      <td>060014073002017</td>\n",
       "      <td>Block 2017</td>\n",
       "      <td>G5040</td>\n",
       "      <td>U</td>\n",
       "      <td>78904</td>\n",
       "      <td>U</td>\n",
       "      <td>S</td>\n",
       "      <td>553</td>\n",
       "      <td>0</td>\n",
       "      <td>+37.7700438</td>\n",
       "      <td>-122.2099801</td>\n",
       "      <td>POLYGON ((-122.210245 37.770097, -122.210139 3...</td>\n",
       "    </tr>\n",
       "    <tr>\n",
       "      <th>2</th>\n",
       "      <td>06</td>\n",
       "      <td>001</td>\n",
       "      <td>408100</td>\n",
       "      <td>2011</td>\n",
       "      <td>060014081002011</td>\n",
       "      <td>Block 2011</td>\n",
       "      <td>G5040</td>\n",
       "      <td>U</td>\n",
       "      <td>78904</td>\n",
       "      <td>U</td>\n",
       "      <td>S</td>\n",
       "      <td>11797</td>\n",
       "      <td>0</td>\n",
       "      <td>+37.7945823</td>\n",
       "      <td>-122.1820803</td>\n",
       "      <td>POLYGON ((-122.18212 37.794933, -122.181836 37...</td>\n",
       "    </tr>\n",
       "    <tr>\n",
       "      <th>3</th>\n",
       "      <td>06</td>\n",
       "      <td>001</td>\n",
       "      <td>401000</td>\n",
       "      <td>2002</td>\n",
       "      <td>060014010002002</td>\n",
       "      <td>Block 2002</td>\n",
       "      <td>G5040</td>\n",
       "      <td>U</td>\n",
       "      <td>78904</td>\n",
       "      <td>U</td>\n",
       "      <td>S</td>\n",
       "      <td>598</td>\n",
       "      <td>0</td>\n",
       "      <td>+37.8343484</td>\n",
       "      <td>-122.2699940</td>\n",
       "      <td>POLYGON ((-122.27004 37.833991, -122.270125 37...</td>\n",
       "    </tr>\n",
       "    <tr>\n",
       "      <th>4</th>\n",
       "      <td>06</td>\n",
       "      <td>001</td>\n",
       "      <td>406100</td>\n",
       "      <td>1005</td>\n",
       "      <td>060014061001005</td>\n",
       "      <td>Block 1005</td>\n",
       "      <td>G5040</td>\n",
       "      <td>U</td>\n",
       "      <td>78904</td>\n",
       "      <td>U</td>\n",
       "      <td>S</td>\n",
       "      <td>139</td>\n",
       "      <td>0</td>\n",
       "      <td>+37.7783082</td>\n",
       "      <td>-122.2273093</td>\n",
       "      <td>POLYGON ((-122.227202 37.778303, -122.227263 3...</td>\n",
       "    </tr>\n",
       "  </tbody>\n",
       "</table>\n",
       "</div>"
      ],
      "text/plain": [
       "  STATEFP10 COUNTYFP10 TRACTCE10 BLOCKCE10          GEOID10      NAME10  \\\n",
       "0        06        001    410000      2024  060014100002024  Block 2024   \n",
       "1        06        001    407300      2017  060014073002017  Block 2017   \n",
       "2        06        001    408100      2011  060014081002011  Block 2011   \n",
       "3        06        001    401000      2002  060014010002002  Block 2002   \n",
       "4        06        001    406100      1005  060014061001005  Block 1005   \n",
       "\n",
       "  MTFCC10 UR10 UACE10 UATYP10 FUNCSTAT10  ALAND10  AWATER10   INTPTLAT10  \\\n",
       "0   G5040    U  78904       U          S     1180         0  +37.7514499   \n",
       "1   G5040    U  78904       U          S      553         0  +37.7700438   \n",
       "2   G5040    U  78904       U          S    11797         0  +37.7945823   \n",
       "3   G5040    U  78904       U          S      598         0  +37.8343484   \n",
       "4   G5040    U  78904       U          S      139         0  +37.7783082   \n",
       "\n",
       "     INTPTLON10                                           geometry  \n",
       "0  -122.1244488  POLYGON ((-122.124886 37.751635, -122.12476 37...  \n",
       "1  -122.2099801  POLYGON ((-122.210245 37.770097, -122.210139 3...  \n",
       "2  -122.1820803  POLYGON ((-122.18212 37.794933, -122.181836 37...  \n",
       "3  -122.2699940  POLYGON ((-122.27004 37.833991, -122.270125 37...  \n",
       "4  -122.2273093  POLYGON ((-122.227202 37.778303, -122.227263 3...  "
      ]
     },
     "execution_count": 3,
     "metadata": {},
     "output_type": "execute_result"
    }
   ],
   "source": [
    "BLOCKS.head()"
   ]
  },
  {
   "cell_type": "code",
   "execution_count": 4,
   "metadata": {},
   "outputs": [],
   "source": [
    "blocks = BLOCKS[['GEOID10','geometry']]\n",
    "blocks.columns = ['geoid','geometry']"
   ]
  },
  {
   "cell_type": "code",
   "execution_count": 5,
   "metadata": {},
   "outputs": [
    {
     "data": {
      "text/html": [
       "<div>\n",
       "<style scoped>\n",
       "    .dataframe tbody tr th:only-of-type {\n",
       "        vertical-align: middle;\n",
       "    }\n",
       "\n",
       "    .dataframe tbody tr th {\n",
       "        vertical-align: top;\n",
       "    }\n",
       "\n",
       "    .dataframe thead th {\n",
       "        text-align: right;\n",
       "    }\n",
       "</style>\n",
       "<table border=\"1\" class=\"dataframe\">\n",
       "  <thead>\n",
       "    <tr style=\"text-align: right;\">\n",
       "      <th></th>\n",
       "      <th>geoid</th>\n",
       "      <th>geometry</th>\n",
       "    </tr>\n",
       "  </thead>\n",
       "  <tbody>\n",
       "    <tr>\n",
       "      <th>0</th>\n",
       "      <td>060014100002024</td>\n",
       "      <td>POLYGON ((-122.124886 37.751635, -122.12476 37...</td>\n",
       "    </tr>\n",
       "    <tr>\n",
       "      <th>1</th>\n",
       "      <td>060014073002017</td>\n",
       "      <td>POLYGON ((-122.210245 37.770097, -122.210139 3...</td>\n",
       "    </tr>\n",
       "    <tr>\n",
       "      <th>2</th>\n",
       "      <td>060014081002011</td>\n",
       "      <td>POLYGON ((-122.18212 37.794933, -122.181836 37...</td>\n",
       "    </tr>\n",
       "    <tr>\n",
       "      <th>3</th>\n",
       "      <td>060014010002002</td>\n",
       "      <td>POLYGON ((-122.27004 37.833991, -122.270125 37...</td>\n",
       "    </tr>\n",
       "    <tr>\n",
       "      <th>4</th>\n",
       "      <td>060014061001005</td>\n",
       "      <td>POLYGON ((-122.227202 37.778303, -122.227263 3...</td>\n",
       "    </tr>\n",
       "  </tbody>\n",
       "</table>\n",
       "</div>"
      ],
      "text/plain": [
       "             geoid                                           geometry\n",
       "0  060014100002024  POLYGON ((-122.124886 37.751635, -122.12476 37...\n",
       "1  060014073002017  POLYGON ((-122.210245 37.770097, -122.210139 3...\n",
       "2  060014081002011  POLYGON ((-122.18212 37.794933, -122.181836 37...\n",
       "3  060014010002002  POLYGON ((-122.27004 37.833991, -122.270125 37...\n",
       "4  060014061001005  POLYGON ((-122.227202 37.778303, -122.227263 3..."
      ]
     },
     "execution_count": 5,
     "metadata": {},
     "output_type": "execute_result"
    }
   ],
   "source": [
    "blocks.head()"
   ]
  },
  {
   "cell_type": "code",
   "execution_count": 6,
   "metadata": {},
   "outputs": [],
   "source": [
    "xwalk = pd.read_csv('blocks-uniquedistricts-xwalk.csv', dtype={'geoid':str})"
   ]
  },
  {
   "cell_type": "code",
   "execution_count": 7,
   "metadata": {},
   "outputs": [
    {
     "data": {
      "text/html": [
       "<div>\n",
       "<style scoped>\n",
       "    .dataframe tbody tr th:only-of-type {\n",
       "        vertical-align: middle;\n",
       "    }\n",
       "\n",
       "    .dataframe tbody tr th {\n",
       "        vertical-align: top;\n",
       "    }\n",
       "\n",
       "    .dataframe thead th {\n",
       "        text-align: right;\n",
       "    }\n",
       "</style>\n",
       "<table border=\"1\" class=\"dataframe\">\n",
       "  <thead>\n",
       "    <tr style=\"text-align: right;\">\n",
       "      <th></th>\n",
       "      <th>geoid</th>\n",
       "      <th>county</th>\n",
       "      <th>population</th>\n",
       "      <th>legdist_c</th>\n",
       "      <th>legdist_a</th>\n",
       "      <th>legdist_s</th>\n",
       "      <th>district_code</th>\n",
       "    </tr>\n",
       "  </thead>\n",
       "  <tbody>\n",
       "    <tr>\n",
       "      <th>0</th>\n",
       "      <td>060014001001000</td>\n",
       "      <td>Alameda CA</td>\n",
       "      <td>0</td>\n",
       "      <td>13</td>\n",
       "      <td>15</td>\n",
       "      <td>9</td>\n",
       "      <td>c013a015s009</td>\n",
       "    </tr>\n",
       "    <tr>\n",
       "      <th>1</th>\n",
       "      <td>060014001001001</td>\n",
       "      <td>Alameda CA</td>\n",
       "      <td>0</td>\n",
       "      <td>13</td>\n",
       "      <td>15</td>\n",
       "      <td>9</td>\n",
       "      <td>c013a015s009</td>\n",
       "    </tr>\n",
       "    <tr>\n",
       "      <th>2</th>\n",
       "      <td>060014001001002</td>\n",
       "      <td>Alameda CA</td>\n",
       "      <td>0</td>\n",
       "      <td>13</td>\n",
       "      <td>15</td>\n",
       "      <td>9</td>\n",
       "      <td>c013a015s009</td>\n",
       "    </tr>\n",
       "    <tr>\n",
       "      <th>3</th>\n",
       "      <td>060014001001003</td>\n",
       "      <td>Alameda CA</td>\n",
       "      <td>0</td>\n",
       "      <td>13</td>\n",
       "      <td>15</td>\n",
       "      <td>9</td>\n",
       "      <td>c013a015s009</td>\n",
       "    </tr>\n",
       "    <tr>\n",
       "      <th>4</th>\n",
       "      <td>060014001001004</td>\n",
       "      <td>Alameda CA</td>\n",
       "      <td>0</td>\n",
       "      <td>13</td>\n",
       "      <td>15</td>\n",
       "      <td>9</td>\n",
       "      <td>c013a015s009</td>\n",
       "    </tr>\n",
       "  </tbody>\n",
       "</table>\n",
       "</div>"
      ],
      "text/plain": [
       "             geoid      county  population  legdist_c  legdist_a  legdist_s  \\\n",
       "0  060014001001000  Alameda CA           0         13         15          9   \n",
       "1  060014001001001  Alameda CA           0         13         15          9   \n",
       "2  060014001001002  Alameda CA           0         13         15          9   \n",
       "3  060014001001003  Alameda CA           0         13         15          9   \n",
       "4  060014001001004  Alameda CA           0         13         15          9   \n",
       "\n",
       "  district_code  \n",
       "0  c013a015s009  \n",
       "1  c013a015s009  \n",
       "2  c013a015s009  \n",
       "3  c013a015s009  \n",
       "4  c013a015s009  "
      ]
     },
     "execution_count": 7,
     "metadata": {},
     "output_type": "execute_result"
    }
   ],
   "source": [
    "xwalk.head()"
   ]
  },
  {
   "cell_type": "code",
   "execution_count": 8,
   "metadata": {},
   "outputs": [
    {
     "data": {
      "text/plain": [
       "710145"
      ]
     },
     "execution_count": 8,
     "metadata": {},
     "output_type": "execute_result"
    }
   ],
   "source": [
    "len(blocks)"
   ]
  },
  {
   "cell_type": "code",
   "execution_count": 9,
   "metadata": {},
   "outputs": [
    {
     "data": {
      "text/plain": [
       "710145"
      ]
     },
     "execution_count": 9,
     "metadata": {},
     "output_type": "execute_result"
    }
   ],
   "source": [
    "len(xwalk)"
   ]
  },
  {
   "cell_type": "code",
   "execution_count": 10,
   "metadata": {},
   "outputs": [],
   "source": [
    "merged = pd.merge(blocks, xwalk, on='geoid')"
   ]
  },
  {
   "cell_type": "code",
   "execution_count": 11,
   "metadata": {},
   "outputs": [
    {
     "data": {
      "text/plain": [
       "710145"
      ]
     },
     "execution_count": 11,
     "metadata": {},
     "output_type": "execute_result"
    }
   ],
   "source": [
    "len(merged)"
   ]
  },
  {
   "cell_type": "code",
   "execution_count": 12,
   "metadata": {},
   "outputs": [
    {
     "data": {
      "text/plain": [
       "geopandas.geodataframe.GeoDataFrame"
      ]
     },
     "execution_count": 12,
     "metadata": {},
     "output_type": "execute_result"
    }
   ],
   "source": [
    "type(merged)"
   ]
  },
  {
   "cell_type": "code",
   "execution_count": 13,
   "metadata": {},
   "outputs": [
    {
     "data": {
      "text/html": [
       "<div>\n",
       "<style scoped>\n",
       "    .dataframe tbody tr th:only-of-type {\n",
       "        vertical-align: middle;\n",
       "    }\n",
       "\n",
       "    .dataframe tbody tr th {\n",
       "        vertical-align: top;\n",
       "    }\n",
       "\n",
       "    .dataframe thead th {\n",
       "        text-align: right;\n",
       "    }\n",
       "</style>\n",
       "<table border=\"1\" class=\"dataframe\">\n",
       "  <thead>\n",
       "    <tr style=\"text-align: right;\">\n",
       "      <th></th>\n",
       "      <th>district_code</th>\n",
       "      <th>geometry</th>\n",
       "      <th>population</th>\n",
       "    </tr>\n",
       "  </thead>\n",
       "  <tbody>\n",
       "    <tr>\n",
       "      <th>0</th>\n",
       "      <td>c013a018s009</td>\n",
       "      <td>POLYGON ((-122.124886 37.751635, -122.12476 37...</td>\n",
       "      <td>0</td>\n",
       "    </tr>\n",
       "    <tr>\n",
       "      <th>1</th>\n",
       "      <td>c013a018s009</td>\n",
       "      <td>POLYGON ((-122.210245 37.770097, -122.210139 3...</td>\n",
       "      <td>0</td>\n",
       "    </tr>\n",
       "    <tr>\n",
       "      <th>2</th>\n",
       "      <td>c013a018s009</td>\n",
       "      <td>POLYGON ((-122.18212 37.794933, -122.181836 37...</td>\n",
       "      <td>0</td>\n",
       "    </tr>\n",
       "    <tr>\n",
       "      <th>3</th>\n",
       "      <td>c013a015s009</td>\n",
       "      <td>POLYGON ((-122.27004 37.833991, -122.270125 37...</td>\n",
       "      <td>0</td>\n",
       "    </tr>\n",
       "    <tr>\n",
       "      <th>4</th>\n",
       "      <td>c013a018s009</td>\n",
       "      <td>POLYGON ((-122.227202 37.778303, -122.227263 3...</td>\n",
       "      <td>0</td>\n",
       "    </tr>\n",
       "  </tbody>\n",
       "</table>\n",
       "</div>"
      ],
      "text/plain": [
       "  district_code                                           geometry  population\n",
       "0  c013a018s009  POLYGON ((-122.124886 37.751635, -122.12476 37...           0\n",
       "1  c013a018s009  POLYGON ((-122.210245 37.770097, -122.210139 3...           0\n",
       "2  c013a018s009  POLYGON ((-122.18212 37.794933, -122.181836 37...           0\n",
       "3  c013a015s009  POLYGON ((-122.27004 37.833991, -122.270125 37...           0\n",
       "4  c013a018s009  POLYGON ((-122.227202 37.778303, -122.227263 3...           0"
      ]
     },
     "execution_count": 13,
     "metadata": {},
     "output_type": "execute_result"
    }
   ],
   "source": [
    "merged[['district_code','geometry','population']].head()"
   ]
  },
  {
   "cell_type": "code",
   "execution_count": 14,
   "metadata": {},
   "outputs": [
    {
     "name": "stdout",
     "output_type": "stream",
     "text": [
      "<class 'geopandas.geodataframe.GeoDataFrame'>\n",
      "Int64Index: 710145 entries, 0 to 710144\n",
      "Data columns (total 3 columns):\n",
      "district_code    710145 non-null object\n",
      "geometry         710145 non-null object\n",
      "population       710145 non-null int64\n",
      "dtypes: int64(1), object(2)\n",
      "memory usage: 21.7+ MB\n"
     ]
    }
   ],
   "source": [
    "merged[['district_code','geometry','population']].info()"
   ]
  },
  {
   "cell_type": "code",
   "execution_count": 15,
   "metadata": {},
   "outputs": [],
   "source": [
    "uniquedist = merged[['district_code','geometry','population']].dissolve(by='district_code', aggfunc='sum')"
   ]
  },
  {
   "cell_type": "code",
   "execution_count": 16,
   "metadata": {},
   "outputs": [],
   "source": [
    "shp = uniquedist.reset_index()"
   ]
  },
  {
   "cell_type": "code",
   "execution_count": 17,
   "metadata": {},
   "outputs": [
    {
     "data": {
      "text/html": [
       "<div>\n",
       "<style scoped>\n",
       "    .dataframe tbody tr th:only-of-type {\n",
       "        vertical-align: middle;\n",
       "    }\n",
       "\n",
       "    .dataframe tbody tr th {\n",
       "        vertical-align: top;\n",
       "    }\n",
       "\n",
       "    .dataframe thead th {\n",
       "        text-align: right;\n",
       "    }\n",
       "</style>\n",
       "<table border=\"1\" class=\"dataframe\">\n",
       "  <thead>\n",
       "    <tr style=\"text-align: right;\">\n",
       "      <th></th>\n",
       "      <th>district_code</th>\n",
       "      <th>geometry</th>\n",
       "      <th>population</th>\n",
       "    </tr>\n",
       "  </thead>\n",
       "  <tbody>\n",
       "    <tr>\n",
       "      <th>0</th>\n",
       "      <td>c001a001s001</td>\n",
       "      <td>POLYGON ((-121.136581 39.638104, -121.136579 3...</td>\n",
       "      <td>410419</td>\n",
       "    </tr>\n",
       "    <tr>\n",
       "      <th>1</th>\n",
       "      <td>c001a001s004</td>\n",
       "      <td>POLYGON ((-121.528982 39.640827, -121.5292 39....</td>\n",
       "      <td>19698</td>\n",
       "    </tr>\n",
       "    <tr>\n",
       "      <th>2</th>\n",
       "      <td>c001a003s004</td>\n",
       "      <td>POLYGON ((-122.921689 39.79831, -122.924462 39...</td>\n",
       "      <td>266086</td>\n",
       "    </tr>\n",
       "    <tr>\n",
       "      <th>3</th>\n",
       "      <td>c001a005s001</td>\n",
       "      <td>POLYGON ((-121.174117 38.908938, -121.174085 3...</td>\n",
       "      <td>1632</td>\n",
       "    </tr>\n",
       "    <tr>\n",
       "      <th>4</th>\n",
       "      <td>c001a006s001</td>\n",
       "      <td>POLYGON ((-121.162373 38.927164, -121.162433 3...</td>\n",
       "      <td>3754</td>\n",
       "    </tr>\n",
       "  </tbody>\n",
       "</table>\n",
       "</div>"
      ],
      "text/plain": [
       "  district_code                                           geometry  population\n",
       "0  c001a001s001  POLYGON ((-121.136581 39.638104, -121.136579 3...      410419\n",
       "1  c001a001s004  POLYGON ((-121.528982 39.640827, -121.5292 39....       19698\n",
       "2  c001a003s004  POLYGON ((-122.921689 39.79831, -122.924462 39...      266086\n",
       "3  c001a005s001  POLYGON ((-121.174117 38.908938, -121.174085 3...        1632\n",
       "4  c001a006s001  POLYGON ((-121.162373 38.927164, -121.162433 3...        3754"
      ]
     },
     "execution_count": 17,
     "metadata": {},
     "output_type": "execute_result"
    }
   ],
   "source": [
    "shp.head()"
   ]
  },
  {
   "cell_type": "code",
   "execution_count": 18,
   "metadata": {},
   "outputs": [
    {
     "data": {
      "text/plain": [
       "37253956"
      ]
     },
     "execution_count": 18,
     "metadata": {},
     "output_type": "execute_result"
    }
   ],
   "source": [
    "shp.population.sum()"
   ]
  },
  {
   "cell_type": "code",
   "execution_count": 19,
   "metadata": {},
   "outputs": [
    {
     "data": {
      "text/plain": [
       "389"
      ]
     },
     "execution_count": 19,
     "metadata": {},
     "output_type": "execute_result"
    }
   ],
   "source": [
    "len(shp)"
   ]
  },
  {
   "cell_type": "code",
   "execution_count": 20,
   "metadata": {},
   "outputs": [],
   "source": [
    "colors = pd.read_csv('color-byuniquedistricts-overyears.csv')"
   ]
  },
  {
   "cell_type": "code",
   "execution_count": 21,
   "metadata": {},
   "outputs": [
    {
     "data": {
      "text/html": [
       "<div>\n",
       "<style scoped>\n",
       "    .dataframe tbody tr th:only-of-type {\n",
       "        vertical-align: middle;\n",
       "    }\n",
       "\n",
       "    .dataframe tbody tr th {\n",
       "        vertical-align: top;\n",
       "    }\n",
       "\n",
       "    .dataframe thead th {\n",
       "        text-align: right;\n",
       "    }\n",
       "</style>\n",
       "<table border=\"1\" class=\"dataframe\">\n",
       "  <thead>\n",
       "    <tr style=\"text-align: right;\">\n",
       "      <th></th>\n",
       "      <th>district_code</th>\n",
       "      <th>color_13</th>\n",
       "      <th>color_15</th>\n",
       "      <th>color_17</th>\n",
       "      <th>color_19</th>\n",
       "    </tr>\n",
       "  </thead>\n",
       "  <tbody>\n",
       "    <tr>\n",
       "      <th>0</th>\n",
       "      <td>c001a001s001</td>\n",
       "      <td>red</td>\n",
       "      <td>red</td>\n",
       "      <td>red</td>\n",
       "      <td>red</td>\n",
       "    </tr>\n",
       "    <tr>\n",
       "      <th>1</th>\n",
       "      <td>c001a001s004</td>\n",
       "      <td>red</td>\n",
       "      <td>red</td>\n",
       "      <td>red</td>\n",
       "      <td>red</td>\n",
       "    </tr>\n",
       "    <tr>\n",
       "      <th>2</th>\n",
       "      <td>c001a003s004</td>\n",
       "      <td>red</td>\n",
       "      <td>red</td>\n",
       "      <td>red</td>\n",
       "      <td>red</td>\n",
       "    </tr>\n",
       "    <tr>\n",
       "      <th>3</th>\n",
       "      <td>c001a005s001</td>\n",
       "      <td>red</td>\n",
       "      <td>red</td>\n",
       "      <td>red</td>\n",
       "      <td>red</td>\n",
       "    </tr>\n",
       "    <tr>\n",
       "      <th>4</th>\n",
       "      <td>c001a006s001</td>\n",
       "      <td>red</td>\n",
       "      <td>red</td>\n",
       "      <td>red</td>\n",
       "      <td>red</td>\n",
       "    </tr>\n",
       "  </tbody>\n",
       "</table>\n",
       "</div>"
      ],
      "text/plain": [
       "  district_code color_13 color_15 color_17 color_19\n",
       "0  c001a001s001      red      red      red      red\n",
       "1  c001a001s004      red      red      red      red\n",
       "2  c001a003s004      red      red      red      red\n",
       "3  c001a005s001      red      red      red      red\n",
       "4  c001a006s001      red      red      red      red"
      ]
     },
     "execution_count": 21,
     "metadata": {},
     "output_type": "execute_result"
    }
   ],
   "source": [
    "colors.head()"
   ]
  },
  {
   "cell_type": "code",
   "execution_count": 22,
   "metadata": {},
   "outputs": [
    {
     "data": {
      "text/plain": [
       "389"
      ]
     },
     "execution_count": 22,
     "metadata": {},
     "output_type": "execute_result"
    }
   ],
   "source": [
    "len(colors)"
   ]
  },
  {
   "cell_type": "code",
   "execution_count": 23,
   "metadata": {},
   "outputs": [],
   "source": [
    "geodata = shp.merge(colors)"
   ]
  },
  {
   "cell_type": "code",
   "execution_count": 24,
   "metadata": {},
   "outputs": [
    {
     "data": {
      "text/plain": [
       "389"
      ]
     },
     "execution_count": 24,
     "metadata": {},
     "output_type": "execute_result"
    }
   ],
   "source": [
    "len(geodata)"
   ]
  },
  {
   "cell_type": "code",
   "execution_count": 25,
   "metadata": {},
   "outputs": [
    {
     "data": {
      "text/html": [
       "<div>\n",
       "<style scoped>\n",
       "    .dataframe tbody tr th:only-of-type {\n",
       "        vertical-align: middle;\n",
       "    }\n",
       "\n",
       "    .dataframe tbody tr th {\n",
       "        vertical-align: top;\n",
       "    }\n",
       "\n",
       "    .dataframe thead th {\n",
       "        text-align: right;\n",
       "    }\n",
       "</style>\n",
       "<table border=\"1\" class=\"dataframe\">\n",
       "  <thead>\n",
       "    <tr style=\"text-align: right;\">\n",
       "      <th></th>\n",
       "      <th>district_code</th>\n",
       "      <th>geometry</th>\n",
       "      <th>population</th>\n",
       "      <th>color_13</th>\n",
       "      <th>color_15</th>\n",
       "      <th>color_17</th>\n",
       "      <th>color_19</th>\n",
       "    </tr>\n",
       "  </thead>\n",
       "  <tbody>\n",
       "    <tr>\n",
       "      <th>0</th>\n",
       "      <td>c001a001s001</td>\n",
       "      <td>POLYGON ((-121.136581 39.638104, -121.136579 3...</td>\n",
       "      <td>410419</td>\n",
       "      <td>red</td>\n",
       "      <td>red</td>\n",
       "      <td>red</td>\n",
       "      <td>red</td>\n",
       "    </tr>\n",
       "    <tr>\n",
       "      <th>1</th>\n",
       "      <td>c001a001s004</td>\n",
       "      <td>POLYGON ((-121.528982 39.640827, -121.5292 39....</td>\n",
       "      <td>19698</td>\n",
       "      <td>red</td>\n",
       "      <td>red</td>\n",
       "      <td>red</td>\n",
       "      <td>red</td>\n",
       "    </tr>\n",
       "    <tr>\n",
       "      <th>2</th>\n",
       "      <td>c001a003s004</td>\n",
       "      <td>POLYGON ((-122.921689 39.79831, -122.924462 39...</td>\n",
       "      <td>266086</td>\n",
       "      <td>red</td>\n",
       "      <td>red</td>\n",
       "      <td>red</td>\n",
       "      <td>red</td>\n",
       "    </tr>\n",
       "    <tr>\n",
       "      <th>3</th>\n",
       "      <td>c001a005s001</td>\n",
       "      <td>POLYGON ((-121.174117 38.908938, -121.174085 3...</td>\n",
       "      <td>1632</td>\n",
       "      <td>red</td>\n",
       "      <td>red</td>\n",
       "      <td>red</td>\n",
       "      <td>red</td>\n",
       "    </tr>\n",
       "    <tr>\n",
       "      <th>4</th>\n",
       "      <td>c001a006s001</td>\n",
       "      <td>POLYGON ((-121.162373 38.927164, -121.162433 3...</td>\n",
       "      <td>3754</td>\n",
       "      <td>red</td>\n",
       "      <td>red</td>\n",
       "      <td>red</td>\n",
       "      <td>red</td>\n",
       "    </tr>\n",
       "  </tbody>\n",
       "</table>\n",
       "</div>"
      ],
      "text/plain": [
       "  district_code                                           geometry  \\\n",
       "0  c001a001s001  POLYGON ((-121.136581 39.638104, -121.136579 3...   \n",
       "1  c001a001s004  POLYGON ((-121.528982 39.640827, -121.5292 39....   \n",
       "2  c001a003s004  POLYGON ((-122.921689 39.79831, -122.924462 39...   \n",
       "3  c001a005s001  POLYGON ((-121.174117 38.908938, -121.174085 3...   \n",
       "4  c001a006s001  POLYGON ((-121.162373 38.927164, -121.162433 3...   \n",
       "\n",
       "   population color_13 color_15 color_17 color_19  \n",
       "0      410419      red      red      red      red  \n",
       "1       19698      red      red      red      red  \n",
       "2      266086      red      red      red      red  \n",
       "3        1632      red      red      red      red  \n",
       "4        3754      red      red      red      red  "
      ]
     },
     "execution_count": 25,
     "metadata": {},
     "output_type": "execute_result"
    }
   ],
   "source": [
    "geodata.head()"
   ]
  },
  {
   "cell_type": "code",
   "execution_count": 26,
   "metadata": {
    "scrolled": false
   },
   "outputs": [
    {
     "name": "stderr",
     "output_type": "stream",
     "text": [
      "/home/ryan/.virtualenvs/censusqueries/lib/python3.6/site-packages/geopandas/io/file.py:108: FionaDeprecationWarning: Use fiona.Env() instead.\n",
      "  with fiona.drivers():\n"
     ]
    }
   ],
   "source": [
    "geodata.to_file('ca-blocks-shapes/unique-districts-colors.shp')"
   ]
  },
  {
   "cell_type": "code",
   "execution_count": 31,
   "metadata": {},
   "outputs": [],
   "source": [
    "geodatasimp = geodata.copy()\n",
    "geodatasimp['geometry'] = geodatasimp['geometry'].simplify(tolerance=0.001)\n",
    "geodatasimp.to_file('ca-blocks-shapes/unique-districts-colors-simplified.shp')"
   ]
  },
  {
   "cell_type": "code",
   "execution_count": 32,
   "metadata": {},
   "outputs": [
    {
     "name": "stdout",
     "output_type": "stream",
     "text": [
      "Warning 1: Layer name 'unique-districts-colors-simplified' adjusted to 'unique_districts_colors_simplified' for XML validity.\r\n",
      "Warning 1: The output driver does not seem to natively support Integer64 type for field population. Converting it to Real instead. -mapFieldType can be used to control field type conversion.\r\n"
     ]
    }
   ],
   "source": [
    "!ogr2ogr -f KML ca-blocks-shapes/unique-districts-colors-simplified.kml ca-blocks-shapes/unique-districts-colors-simplified.shp"
   ]
  },
  {
   "cell_type": "code",
   "execution_count": null,
   "metadata": {},
   "outputs": [],
   "source": []
  }
 ],
 "metadata": {
  "kernelspec": {
   "display_name": "Python 3",
   "language": "python",
   "name": "python3"
  },
  "language_info": {
   "codemirror_mode": {
    "name": "ipython",
    "version": 3
   },
   "file_extension": ".py",
   "mimetype": "text/x-python",
   "name": "python",
   "nbconvert_exporter": "python",
   "pygments_lexer": "ipython3",
   "version": "3.6.7"
  }
 },
 "nbformat": 4,
 "nbformat_minor": 2
}
